{
  "nbformat": 4,
  "nbformat_minor": 0,
  "metadata": {
    "colab": {
      "provenance": []
    },
    "kernelspec": {
      "name": "python3",
      "display_name": "Python 3"
    },
    "language_info": {
      "name": "python"
    }
  },
  "cells": [
    {
      "cell_type": "code",
      "source": [
        "!pip install pypdfium opencv-python pandas\n"
      ],
      "metadata": {
        "colab": {
          "base_uri": "https://localhost:8080/"
        },
        "id": "Fc-k74Qh_Wh_",
        "outputId": "8a9483c7-2ab9-44c1-e7ea-7b421a41739d"
      },
      "execution_count": 18,
      "outputs": [
        {
          "output_type": "stream",
          "name": "stdout",
          "text": [
            "Collecting pypdfium\n",
            "  Downloading pypdfium-0.0.15.tar.gz (7.8 MB)\n",
            "\u001b[2K     \u001b[90m━━━━━━━━━━━━━━━━━━━━━━━━━━━━━━━━━━━━━━━━\u001b[0m \u001b[32m7.8/7.8 MB\u001b[0m \u001b[31m19.6 MB/s\u001b[0m eta \u001b[36m0:00:00\u001b[0m\n",
            "\u001b[?25h  Preparing metadata (setup.py) ... \u001b[?25l\u001b[?25hdone\n",
            "Requirement already satisfied: opencv-python in /usr/local/lib/python3.10/dist-packages (4.8.0.76)\n",
            "Requirement already satisfied: pandas in /usr/local/lib/python3.10/dist-packages (1.5.3)\n",
            "Requirement already satisfied: numpy>=1.21.2 in /usr/local/lib/python3.10/dist-packages (from opencv-python) (1.23.5)\n",
            "Requirement already satisfied: python-dateutil>=2.8.1 in /usr/local/lib/python3.10/dist-packages (from pandas) (2.8.2)\n",
            "Requirement already satisfied: pytz>=2020.1 in /usr/local/lib/python3.10/dist-packages (from pandas) (2023.3.post1)\n",
            "Requirement already satisfied: six>=1.5 in /usr/local/lib/python3.10/dist-packages (from python-dateutil>=2.8.1->pandas) (1.16.0)\n",
            "Building wheels for collected packages: pypdfium\n",
            "  Building wheel for pypdfium (setup.py) ... \u001b[?25l\u001b[?25hdone\n",
            "  Created wheel for pypdfium: filename=pypdfium-0.0.15-py3-none-any.whl size=7838765 sha256=12e25d05597815130639a047ce366252c66d550854f4277eb662e1fb146be9af\n",
            "  Stored in directory: /root/.cache/pip/wheels/dd/e1/66/ad41b24aac482885e38a262d4af914f5c36bbc72a4fbeaded1\n",
            "Successfully built pypdfium\n",
            "Installing collected packages: pypdfium\n",
            "Successfully installed pypdfium-0.0.15\n"
          ]
        }
      ]
    },
    {
      "cell_type": "code",
      "source": [
        "!pip install PyPDF4 opencv-python pandas\n"
      ],
      "metadata": {
        "colab": {
          "base_uri": "https://localhost:8080/"
        },
        "id": "TLnBIAoA_wk6",
        "outputId": "f102a00d-ceb7-4753-a01b-d34037af6311"
      },
      "execution_count": 19,
      "outputs": [
        {
          "output_type": "stream",
          "name": "stdout",
          "text": [
            "Collecting PyPDF4\n",
            "  Downloading PyPDF4-1.27.0.tar.gz (63 kB)\n",
            "\u001b[?25l     \u001b[90m━━━━━━━━━━━━━━━━━━━━━━━━━━━━━━━━━━━━━━━━\u001b[0m \u001b[32m0.0/63.9 kB\u001b[0m \u001b[31m?\u001b[0m eta \u001b[36m-:--:--\u001b[0m\r\u001b[2K     \u001b[91m━━━━━━━━━━━━━━━━━━━\u001b[0m\u001b[90m╺\u001b[0m\u001b[90m━━━━━━━━━━━━━━━━━━━━\u001b[0m \u001b[32m30.7/63.9 kB\u001b[0m \u001b[31m752.0 kB/s\u001b[0m eta \u001b[36m0:00:01\u001b[0m\r\u001b[2K     \u001b[90m━━━━━━━━━━━━━━━━━━━━━━━━━━━━━━━━━━━━━━━━\u001b[0m \u001b[32m63.9/63.9 kB\u001b[0m \u001b[31m799.6 kB/s\u001b[0m eta \u001b[36m0:00:00\u001b[0m\n",
            "\u001b[?25h  Preparing metadata (setup.py) ... \u001b[?25l\u001b[?25hdone\n",
            "Requirement already satisfied: opencv-python in /usr/local/lib/python3.10/dist-packages (4.8.0.76)\n",
            "Requirement already satisfied: pandas in /usr/local/lib/python3.10/dist-packages (1.5.3)\n",
            "Requirement already satisfied: numpy>=1.21.2 in /usr/local/lib/python3.10/dist-packages (from opencv-python) (1.23.5)\n",
            "Requirement already satisfied: python-dateutil>=2.8.1 in /usr/local/lib/python3.10/dist-packages (from pandas) (2.8.2)\n",
            "Requirement already satisfied: pytz>=2020.1 in /usr/local/lib/python3.10/dist-packages (from pandas) (2023.3.post1)\n",
            "Requirement already satisfied: six>=1.5 in /usr/local/lib/python3.10/dist-packages (from python-dateutil>=2.8.1->pandas) (1.16.0)\n",
            "Building wheels for collected packages: PyPDF4\n",
            "  Building wheel for PyPDF4 (setup.py) ... \u001b[?25l\u001b[?25hdone\n",
            "  Created wheel for PyPDF4: filename=PyPDF4-1.27.0-py3-none-any.whl size=61226 sha256=dfe983514e05695dce5d37c648204ebca3cbb53a212f984bb1fa7a977f9e3870\n",
            "  Stored in directory: /root/.cache/pip/wheels/83/cc/14/cb307e5c99235c4497c7895cdb60b4f7ba2a738b6a5fc0d423\n",
            "Successfully built PyPDF4\n",
            "Installing collected packages: PyPDF4\n",
            "Successfully installed PyPDF4-1.27.0\n"
          ]
        }
      ]
    },
    {
      "cell_type": "code",
      "source": [
        "!pip install pymupdf\n"
      ],
      "metadata": {
        "colab": {
          "base_uri": "https://localhost:8080/"
        },
        "id": "BTP9cLF_C8DH",
        "outputId": "2d245560-85b3-4106-d1f0-ad0a4726b05f"
      },
      "execution_count": 20,
      "outputs": [
        {
          "output_type": "stream",
          "name": "stdout",
          "text": [
            "Collecting pymupdf\n",
            "  Downloading PyMuPDF-1.23.7-cp310-none-manylinux2014_x86_64.whl (4.4 MB)\n",
            "\u001b[2K     \u001b[90m━━━━━━━━━━━━━━━━━━━━━━━━━━━━━━━━━━━━━━━━\u001b[0m \u001b[32m4.4/4.4 MB\u001b[0m \u001b[31m14.6 MB/s\u001b[0m eta \u001b[36m0:00:00\u001b[0m\n",
            "\u001b[?25hCollecting PyMuPDFb==1.23.7 (from pymupdf)\n",
            "  Downloading PyMuPDFb-1.23.7-py3-none-manylinux2014_x86_64.manylinux_2_17_x86_64.whl (30.6 MB)\n",
            "\u001b[2K     \u001b[90m━━━━━━━━━━━━━━━━━━━━━━━━━━━━━━━━━━━━━━━━\u001b[0m \u001b[32m30.6/30.6 MB\u001b[0m \u001b[31m17.8 MB/s\u001b[0m eta \u001b[36m0:00:00\u001b[0m\n",
            "\u001b[?25hInstalling collected packages: PyMuPDFb, pymupdf\n",
            "Successfully installed PyMuPDFb-1.23.7 pymupdf-1.23.7\n"
          ]
        }
      ]
    },
    {
      "cell_type": "code",
      "source": [
        "import fitz  # PyMuPDF\n",
        "import pandas as pd\n",
        "\n",
        "def extract_text_blocks(pdf_path, page_number):\n",
        "    pdf_document = fitz.open(pdf_path)\n",
        "    page = pdf_document.load_page(page_number)\n",
        "    blocks = page.get_text(\"dict\")['blocks']\n",
        "\n",
        "    text_blocks = []\n",
        "    for b in blocks:\n",
        "        block_text = ''\n",
        "        if 'lines' in b:\n",
        "            for l in b['lines']:\n",
        "                for s in l['spans']:\n",
        "                    block_text += s['text']\n",
        "                block_text += '\\n'\n",
        "            x0, _, x1, _ = b['bbox']\n",
        "            text_blocks.append({'x0': x0, 'text': block_text})\n",
        "        elif 'text' in b:\n",
        "            block_text = b['text']\n",
        "            x0, _, x1, _ = b['bbox']\n",
        "            text_blocks.append({'x0': x0, 'text': block_text})\n",
        "\n",
        "    # Sort text blocks based on x-coordinate\n",
        "    sorted_blocks = sorted(text_blocks, key=lambda x: x['x0'])\n",
        "\n",
        "    return sorted_blocks\n",
        "\n",
        "def organize_into_columns(text_blocks):\n",
        "    columns = []\n",
        "    current_column = []\n",
        "\n",
        "    for block in text_blocks:\n",
        "        if not current_column:\n",
        "            current_column.append(block)\n",
        "        else:\n",
        "            if block['x0'] - current_column[-1]['x0'] < 10:  # Adjust this threshold as per your PDF\n",
        "                current_column.append(block)\n",
        "            else:\n",
        "                columns.append(current_column)\n",
        "                current_column = [block]\n",
        "\n",
        "    # Add the last column\n",
        "    columns.append(current_column)\n",
        "\n",
        "    return columns\n",
        "\n",
        "def save_to_excel(columns, output_file):\n",
        "    max_length = max(len(col) for col in columns)\n",
        "    df = pd.DataFrame({f\"Column_{i+1}\": ['' for _ in range(max_length)] for i in range(len(columns))})\n",
        "\n",
        "    for i, col in enumerate(columns):\n",
        "        for j, block in enumerate(col):\n",
        "            df.at[j, f\"Column_{i+1}\"] = block['text'].strip()\n",
        "\n",
        "    df.to_excel(output_file, index=False)\n",
        "\n",
        "if __name__ == \"__main__\":\n",
        "    # PDF file path and page number\n",
        "    pdf_file_path = '/content/keppel-corporation-limited-annual-report-2018.pdf'\n",
        "    page_no = 11  # Page number - 1 (index starts from 0)\n",
        "\n",
        "    # Extract text blocks from the specified page\n",
        "    text_blocks = extract_text_blocks(pdf_file_path, page_no)\n",
        "\n",
        "    # Organize text blocks into columns\n",
        "    columns = organize_into_columns(text_blocks)\n",
        "\n",
        "    # Save columns from page 12 to an Excel file\n",
        "    output_excel_file = 'output_text_page_12.xlsx'\n",
        "    save_to_excel(columns, output_excel_file)\n"
      ],
      "metadata": {
        "id": "viK2iYuUQAVu"
      },
      "execution_count": 21,
      "outputs": []
    }
  ]
}